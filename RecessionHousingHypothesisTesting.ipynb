{
 "cells": [
  {
   "cell_type": "markdown",
   "metadata": {},
   "source": [
    "---\n",
    "\n",
    "_You are currently looking at **version 1.1** of this notebook. To download notebooks and datafiles, as well as get help on Jupyter notebooks in the Coursera platform, visit the [Jupyter Notebook FAQ](https://www.coursera.org/learn/python-data-analysis/resources/0dhYG) course resource._\n",
    "\n",
    "---"
   ]
  },
  {
   "cell_type": "code",
   "execution_count": null,
   "metadata": {},
   "outputs": [],
   "source": [
    "import pandas as pd\n",
    "import numpy as np\n",
    "from scipy.stats import ttest_ind"
   ]
  },
  {
   "cell_type": "markdown",
   "metadata": {},
   "source": [
    "# Hypothesis Testing Impact of Recessions University Town Housing Prices\n",
    "\n",
    "Definitions:\n",
    "* A _quarter_ is a specific three month period, Q1 is January through March, Q2 is April through June, Q3 is July through September, Q4 is October through December.\n",
    "* A _recession_ is defined as starting with two consecutive quarters of GDP decline, and ending with two consecutive quarters of GDP growth.\n",
    "* A _recession bottom_ is the quarter within a recession which had the lowest GDP.\n",
    "* A _university town_ is a city which has a high percentage of university students compared to the total population of the city.\n",
    "\n",
    "**Hypothesis**: University towns have their mean housing prices less effected by recessions. \n",
    "\n",
    "I will run a t-test to compare the ratio of the mean price of houses in university towns the quarter before the recession starts to the recession bottom. (`price_ratio=quarter_before_recession/recession_bottom`)\n",
    "\n",
    "Data:\n",
    "* From the [Zillow research data site](http://www.zillow.com/research/data/) there is housing data for the United States. In particular the datafile for [all homes at a city level](http://files.zillowstatic.com/research/public/City/City_Zhvi_AllHomes.csv), ```City_Zhvi_AllHomes.csv```, has median home sale prices at a fine grained level.\n",
    "* From the Wikipedia page on college towns is a list of [university towns in the United States](https://en.wikipedia.org/wiki/List_of_college_towns#College_towns_in_the_United_States) which has been copy and pasted into the file ```university_towns.txt```.\n",
    "* From Bureau of Economic Analysis, US Department of Commerce, the [GDP over time](http://www.bea.gov/national/index.htm#gdp) of the United States in current dollars (use the chained value in 2009 dollars), in quarterly intervals, in the file ```gdplev.xls```. For this assignment, only look at GDP data from the first quarter of 2000 onward."
   ]
  },
  {
   "cell_type": "code",
   "execution_count": null,
   "metadata": {},
   "outputs": [],
   "source": [
    "#dictionary to map state names to two letter acronyms\n",
    "states = {'OH': 'Ohio', 'KY': 'Kentucky', 'AS': 'American Samoa', 'NV': 'Nevada', 'WY': 'Wyoming', 'NA': 'National', 'AL': 'Alabama', 'MD': 'Maryland', 'AK': 'Alaska', 'UT': 'Utah', 'OR': 'Oregon', 'MT': 'Montana', 'IL': 'Illinois', 'TN': 'Tennessee', 'DC': 'District of Columbia', 'VT': 'Vermont', 'ID': 'Idaho', 'AR': 'Arkansas', 'ME': 'Maine', 'WA': 'Washington', 'HI': 'Hawaii', 'WI': 'Wisconsin', 'MI': 'Michigan', 'IN': 'Indiana', 'NJ': 'New Jersey', 'AZ': 'Arizona', 'GU': 'Guam', 'MS': 'Mississippi', 'PR': 'Puerto Rico', 'NC': 'North Carolina', 'TX': 'Texas', 'SD': 'South Dakota', 'MP': 'Northern Mariana Islands', 'IA': 'Iowa', 'MO': 'Missouri', 'CT': 'Connecticut', 'WV': 'West Virginia', 'SC': 'South Carolina', 'LA': 'Louisiana', 'KS': 'Kansas', 'NY': 'New York', 'NE': 'Nebraska', 'OK': 'Oklahoma', 'FL': 'Florida', 'CA': 'California', 'CO': 'Colorado', 'PA': 'Pennsylvania', 'DE': 'Delaware', 'NM': 'New Mexico', 'RI': 'Rhode Island', 'MN': 'Minnesota', 'VI': 'Virgin Islands', 'NH': 'New Hampshire', 'MA': 'Massachusetts', 'GA': 'Georgia', 'ND': 'North Dakota', 'VA': 'Virginia'}\n"
   ]
  },
  {
   "cell_type": "code",
   "execution_count": null,
   "metadata": {
    "umich_part_id": "021",
    "umich_partlist_id": "004"
   },
   "outputs": [],
   "source": [
    "def get_list_of_university_towns():\n",
    "    uni_towns = pd.read_csv ('university_towns.txt', sep=\";\", names=['Region Name'])\n",
    "    uni_towns.insert(0, 'State', uni_towns['Region Name'].str.extract('(.*)\\[edit\\]', expand=False).ffill())\n",
    "    uni_towns['Region Name'] = uni_towns['Region Name'].str.replace(r' \\(.+$', '')\n",
    "    uni_towns = uni_towns[~uni_towns['Region Name'].str.contains('\\[edit\\]')].reset_index(drop=True)\n",
    "    uni_towns.rename(columns={'Region Name': \\\n",
    "                        'RegionName'}, inplace=True)\n",
    "    return uni_towns\n",
    "\n",
    "get_list_of_university_towns() "
   ]
  },
  {
   "cell_type": "code",
   "execution_count": null,
   "metadata": {
    "umich_part_id": "022",
    "umich_partlist_id": "004"
   },
   "outputs": [],
   "source": [
    "def get_recession_start():\n",
    "    #Returns the year and quarter of the recession start time as a string value in a format such as 2005q3\n",
    "    \n",
    "    GDP = pd.read_excel ('gdplev.xls', header=4)\n",
    "    GDP = GDP.drop(GDP.columns[[0, 1, 2, 3, 5, 7]], axis=1)\n",
    "    GDP.rename(columns={'GDP in billions of chained 2009 dollars.1': \\\n",
    "                        'GDP', 'Unnamed: 4': 'year+quarter'}, inplace=True)\n",
    "    GDP = GDP[GDP['year+quarter']>'2000'] \n",
    "    GDP = GDP.drop([GDP.index[0] , GDP.index[1]])\n",
    "    GDP = GDP.iloc[0:]\n",
    "    GDP.reset_index(inplace=True)\n",
    "    GDP.drop(GDP.columns[0], axis=1, inplace=True)\n",
    "\n",
    "    rec_start = GDP[(GDP['GDP'] > GDP['GDP'].shift(-1))&\n",
    "                  (GDP['GDP'].shift(-1) > GDP['GDP'].shift(-2))]\n",
    "    \n",
    "    return rec_start.iloc[0,0]\n",
    "\n",
    "get_recession_start()"
   ]
  },
  {
   "cell_type": "code",
   "execution_count": null,
   "metadata": {
    "umich_part_id": "023",
    "umich_partlist_id": "004"
   },
   "outputs": [],
   "source": [
    "def get_recession_end():\n",
    "    GDP = pd.read_excel ('gdplev.xls', header=4)\n",
    "    GDP = GDP.drop(GDP.columns[[0, 1, 2, 3, 5, 7]], axis=1)\n",
    "    GDP.rename(columns={'GDP in billions of chained 2009 dollars.1': \\\n",
    "                        'GDP', 'Unnamed: 4': 'year+quarter'}, inplace=True)\n",
    "    GDP = GDP[GDP['year+quarter']>'2000'] \n",
    "    GDP = GDP.drop([GDP.index[0] , GDP.index[1]])\n",
    "    GDP = GDP.iloc[0:]\n",
    "    GDP.reset_index(inplace=True)\n",
    "    GDP.drop(GDP.columns[0], axis=1, inplace=True)\n",
    "    \n",
    "    rec_start = get_recession_start()\n",
    "    GDP = GDP[GDP['year+quarter'] >= rec_start]\n",
    "\n",
    "    rec_end = GDP[(GDP['GDP'] > GDP['GDP'].shift(1))& \n",
    "                  (GDP['GDP'].shift(1) > GDP['GDP'].shift(2))]\n",
    "               \n",
    "    return rec_end.iloc[0,0]\n",
    "\n",
    "get_recession_end()"
   ]
  },
  {
   "cell_type": "code",
   "execution_count": null,
   "metadata": {
    "umich_part_id": "024",
    "umich_partlist_id": "004"
   },
   "outputs": [],
   "source": [
    "def get_recession_bottom():\n",
    "    #Returns the year and quarter of the recession bottom time as a string value in a format such as 2005q3\n",
    "    GDP = pd.read_excel ('gdplev.xls', header=4)\n",
    "    GDP = GDP.drop(GDP.columns[[0, 1, 2, 3, 5, 7]], axis=1)\n",
    "    GDP.rename(columns={'GDP in billions of chained 2009 dollars.1': \\\n",
    "                        'GDP', 'Unnamed: 4': 'year+quarter'}, inplace=True)\n",
    "    GDP = GDP[GDP['year+quarter']>'2000'] \n",
    "    GDP = GDP.drop([GDP.index[0] , GDP.index[1]])\n",
    "    GDP = GDP.iloc[0:]\n",
    "    GDP.reset_index(inplace=True)\n",
    "    GDP.drop(GDP.columns[0], axis=1, inplace=True)\n",
    "    GDP = GDP[(GDP['year+quarter'] >= '2008q2') & (GDP['year+quarter'] <= '2009q4')]\n",
    "    GDP.set_index(['year+quarter'], inplace=True)\n",
    "    GDP = GDP[['GDP']].idxmin()\n",
    "    \n",
    "    return GDP.iloc[0]\n",
    "\n",
    "get_recession_bottom()"
   ]
  },
  {
   "cell_type": "code",
   "execution_count": null,
   "metadata": {
    "scrolled": true
   },
   "outputs": [],
   "source": [
    "def convert_housing_data_to_quarters():\n",
    "    month_to_qtr = {'01':'q1','02':'q1','03':'q1','04':'q2','05':'q2','06':'q2',\n",
    "                '07':'q3','08':'q3','09':'q3','10':'q4','11':'q4','12':'q4'}\n",
    "    housing = pd.read_csv ('City_Zhvi_AllHomes.csv')\n",
    "    housing = pd.DataFrame(housing.drop(['Metro','CountyName','SizeRank','RegionID'], axis=1))\n",
    "    housing['State'].replace(states, inplace= True)\n",
    "    housing = housing.set_index(['State','RegionName'])\n",
    "    housing = housing.iloc[:,45:250]\n",
    "    \n",
    "    def quarters(col):\n",
    "        if col.endswith((\"01\", \"02\", \"03\")):\n",
    "            s = col[:4] + \"q1\"\n",
    "        elif col.endswith((\"04\", \"05\", \"06\")):\n",
    "            s = col[:4] + \"q2\"\n",
    "        elif col.endswith((\"07\", \"08\", \"09\")):\n",
    "            s = col[:4] + \"q3\"\n",
    "        else:\n",
    "            s = col[:4] + \"q4\"\n",
    "        return s  \n",
    "    housing = housing.groupby(quarters, axis = 1).mean()\n",
    "    housing = housing.sort_index()\n",
    "    \n",
    "    return housing\n",
    "\n",
    "convert_housing_data_to_quarters()"
   ]
  },
  {
   "cell_type": "code",
   "execution_count": null,
   "metadata": {
    "umich_part_id": "026",
    "umich_partlist_id": "004"
   },
   "outputs": [],
   "source": [
    "def run_ttest():   \n",
    "    #building the data that shows change in housing prices between start and bottom of recession\n",
    "    u_towns = get_list_of_university_towns()\n",
    "    rec_start = get_recession_start()\n",
    "    rec_bottom = get_recession_bottom()\n",
    "    houses = convert_housing_data_to_quarters()\n",
    "    \n",
    "    houses = houses.reset_index()\n",
    "    houses['recession_diff'] = houses[rec_start] - houses[rec_bottom]\n",
    "    \n",
    "    u_towns_houses = pd.merge(houses, u_towns, how='inner', on=['State', 'RegionName'])\n",
    "    u_towns_houses['ctown'] = True\n",
    "    houses = pd.merge(houses, u_towns_houses, how='outer', on = ['State', 'RegionName',\n",
    "                                                              rec_bottom, rec_start, \n",
    "                                                              'recession_diff'])\n",
    "    houses['ctown'] = houses['ctown'].fillna(False)\n",
    "    unitowns = houses[houses['ctown'] == True]\n",
    "    not_unitowns = houses[houses['ctown'] == False]\n",
    "    \n",
    "    #comparing university town data to non-university town data\n",
    "    t, p = ttest_ind(unitowns['recession_diff'].dropna(), not_unitowns['recession_diff'].dropna())\n",
    "    different = True if p < 0.01 else False\n",
    "    betters = \"university town\" if unitowns['recession_diff'].mean() < not_unitowns['recession_diff'].mean() else \"non-university town\"\n",
    "    \n",
    "    #different = True if t-test is True at p<0.01, different = False if otherwise. \n",
    "    #p is the value returned by scipy.stats.ttest_ind()\n",
    "    #betters is university towns or non-university towns, depending on which has a lower mean price ratio. \n",
    "    return different,p,betters\n",
    "\n",
    "run_ttest()"
   ]
  }
 ],
 "metadata": {
  "coursera": {
   "course_slug": "python-data-analysis",
   "graded_item_id": "Il9Fx",
   "launcher_item_id": "TeDW0",
   "part_id": "WGlun"
  },
  "kernelspec": {
   "display_name": "Python 3",
   "language": "python",
   "name": "python3"
  },
  "language_info": {
   "codemirror_mode": {
    "name": "ipython",
    "version": 3
   },
   "file_extension": ".py",
   "mimetype": "text/x-python",
   "name": "python",
   "nbconvert_exporter": "python",
   "pygments_lexer": "ipython3",
   "version": "3.7.3"
  },
  "umich": {
   "id": "Assignment 4",
   "version": "1.1"
  }
 },
 "nbformat": 4,
 "nbformat_minor": 1
}
